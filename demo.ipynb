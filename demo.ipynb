{
 "cells": [
  {
   "cell_type": "markdown",
   "metadata": {},
   "source": [
    "# Textless Speech Resynthesis using Conditional Flow Matching and HuBERT units"
   ]
  },
  {
   "cell_type": "code",
   "execution_count": null,
   "metadata": {},
   "outputs": [],
   "source": [
    "!pip install -r requirements/requirements.txt"
   ]
  },
  {
   "cell_type": "code",
   "execution_count": null,
   "metadata": {},
   "outputs": [],
   "source": [
    "!git clone https://github.com/facebookresearch/textlesslib.git src/textlesslib\n",
    "!git clone https://huggingface.co/spaces/sarulab-speech/UTMOS-demo src/utmos\n",
    "\n",
    "!patch src/utmos/lightning_module.py src/patch/utmos_lightning_module.patch"
   ]
  },
  {
   "cell_type": "code",
   "execution_count": null,
   "metadata": {},
   "outputs": [],
   "source": [
    "%cd src/textlesslib\n",
    "!pip install -e .\n",
    "%cd -"
   ]
  },
  {
   "cell_type": "code",
   "execution_count": null,
   "metadata": {},
   "outputs": [],
   "source": [
    "!wget -t 0 -c -P data https://www.openslr.org/resources/141/test_clean.tar.gz\n",
    "!tar zxf data/test_clean.tar.gz -C data"
   ]
  },
  {
   "cell_type": "code",
   "execution_count": null,
   "metadata": {},
   "outputs": [],
   "source": [
    "import torch\n",
    "import torchaudio\n",
    "from fairseq.data.dictionary import Dictionary\n",
    "from IPython.display import Audio\n",
    "from textless.data.speech_encoder import SpeechEncoder\n",
    "\n",
    "from src.flow_matching.models import ConditionalFlowMatchingWithHifiGan"
   ]
  },
  {
   "cell_type": "code",
   "execution_count": null,
   "metadata": {},
   "outputs": [],
   "source": [
    "torch.serialization.add_safe_globals([Dictionary])\n",
    "\n",
    "encoder = SpeechEncoder.by_name(\n",
    "    dense_model_name=\"mhubert-base-vp_mls_cv_8lang\",\n",
    "    quantizer_model_name=\"kmeans-expresso\",\n",
    "    vocab_size=2000,\n",
    "    deduplicate=False,\n",
    "    need_f0=False,\n",
    ").cuda()\n",
    "\n",
    "# download a pretrained model from hugging face hub\n",
    "decoder = ConditionalFlowMatchingWithHifiGan.from_pretrained(\"ryota-komatsu/flow_matching_with_hifigan\").cuda()"
   ]
  },
  {
   "cell_type": "code",
   "execution_count": null,
   "metadata": {},
   "outputs": [],
   "source": [
    "wav_path = \"data/LibriTTS_R/test-clean/121/121726/121_121726_000004_000003.wav\""
   ]
  },
  {
   "cell_type": "markdown",
   "metadata": {},
   "source": [
    "load a waveform"
   ]
  },
  {
   "cell_type": "code",
   "execution_count": null,
   "metadata": {},
   "outputs": [],
   "source": [
    "waveform, sr = torchaudio.load(wav_path)\n",
    "waveform = torchaudio.functional.resample(waveform, sr, 16000)"
   ]
  },
  {
   "cell_type": "markdown",
   "metadata": {},
   "source": [
    "encode a waveform into pseudo-phonetic units"
   ]
  },
  {
   "cell_type": "code",
   "execution_count": null,
   "metadata": {},
   "outputs": [],
   "source": [
    "units = encoder(waveform.cuda())[\"units\"]\n",
    "units = units.unsqueeze(0) + 1  # 0: pad"
   ]
  },
  {
   "cell_type": "markdown",
   "metadata": {},
   "source": [
    "resynthesis"
   ]
  },
  {
   "cell_type": "code",
   "execution_count": null,
   "metadata": {},
   "outputs": [],
   "source": [
    "audio_values = decoder(units)[0]\n",
    "audio_values = audio_values.cpu()"
   ]
  },
  {
   "cell_type": "markdown",
   "metadata": {},
   "source": [
    "original speech"
   ]
  },
  {
   "cell_type": "code",
   "execution_count": null,
   "metadata": {},
   "outputs": [],
   "source": [
    "Audio(waveform, rate=16000)"
   ]
  },
  {
   "cell_type": "markdown",
   "metadata": {},
   "source": [
    "sampled speech"
   ]
  },
  {
   "cell_type": "code",
   "execution_count": null,
   "metadata": {},
   "outputs": [],
   "source": [
    "Audio(audio_values, rate=16000)"
   ]
  }
 ],
 "metadata": {
  "kernelspec": {
   "display_name": "py39",
   "language": "python",
   "name": "python3"
  },
  "language_info": {
   "codemirror_mode": {
    "name": "ipython",
    "version": 3
   },
   "file_extension": ".py",
   "mimetype": "text/x-python",
   "name": "python",
   "nbconvert_exporter": "python",
   "pygments_lexer": "ipython3",
   "version": "3.9.21"
  }
 },
 "nbformat": 4,
 "nbformat_minor": 2
}
